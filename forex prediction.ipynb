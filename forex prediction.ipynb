{
 "cells": [
  {
   "cell_type": "code",
   "execution_count": 11,
   "id": "d1f489cb",
   "metadata": {},
   "outputs": [],
   "source": [
    "import pandas as pd\n",
    "import numpy as np\n",
    "import matplotlib.pyplot as plt\n",
    "import seaborn as sns\n",
    "from datetime import datetime"
   ]
  },
  {
   "cell_type": "code",
   "execution_count": 12,
   "id": "31fb4505",
   "metadata": {},
   "outputs": [],
   "source": [
    "#Reading the file\n",
    "df =pd.read_csv('forex_predictions_data.csv')"
   ]
  },
  {
   "cell_type": "code",
   "execution_count": 13,
   "id": "257b556a",
   "metadata": {},
   "outputs": [
    {
     "name": "stdout",
     "output_type": "stream",
     "text": [
      "<class 'pandas.core.frame.DataFrame'>\n",
      "RangeIndex: 229 entries, 0 to 228\n",
      "Data columns (total 10 columns):\n",
      " #   Column           Non-Null Count  Dtype  \n",
      "---  ------           --------------  -----  \n",
      " 0   Date             226 non-null    object \n",
      " 1   Open             224 non-null    float64\n",
      " 2   High             220 non-null    float64\n",
      " 3   Low              225 non-null    float64\n",
      " 4   Close            212 non-null    float64\n",
      " 5   Volume           226 non-null    object \n",
      " 6   Predicted_Close  222 non-null    float64\n",
      " 7   Currency_Pair    229 non-null    object \n",
      " 8   Signal           227 non-null    object \n",
      " 9   Confidence       218 non-null    float64\n",
      "dtypes: float64(6), object(4)\n",
      "memory usage: 18.0+ KB\n"
     ]
    }
   ],
   "source": [
    "df.info()\n"
   ]
  },
  {
   "cell_type": "code",
   "execution_count": 14,
   "id": "ba3c601c",
   "metadata": {},
   "outputs": [
    {
     "data": {
      "text/html": [
       "<div>\n",
       "<style scoped>\n",
       "    .dataframe tbody tr th:only-of-type {\n",
       "        vertical-align: middle;\n",
       "    }\n",
       "\n",
       "    .dataframe tbody tr th {\n",
       "        vertical-align: top;\n",
       "    }\n",
       "\n",
       "    .dataframe thead th {\n",
       "        text-align: right;\n",
       "    }\n",
       "</style>\n",
       "<table border=\"1\" class=\"dataframe\">\n",
       "  <thead>\n",
       "    <tr style=\"text-align: right;\">\n",
       "      <th></th>\n",
       "      <th>Open</th>\n",
       "      <th>High</th>\n",
       "      <th>Low</th>\n",
       "      <th>Close</th>\n",
       "      <th>Predicted_Close</th>\n",
       "      <th>Confidence</th>\n",
       "    </tr>\n",
       "  </thead>\n",
       "  <tbody>\n",
       "    <tr>\n",
       "      <th>count</th>\n",
       "      <td>224.000000</td>\n",
       "      <td>220.000000</td>\n",
       "      <td>225.000000</td>\n",
       "      <td>212.000000</td>\n",
       "      <td>222.000000</td>\n",
       "      <td>218.000000</td>\n",
       "    </tr>\n",
       "    <tr>\n",
       "      <th>mean</th>\n",
       "      <td>1.239946</td>\n",
       "      <td>1.753113</td>\n",
       "      <td>0.750030</td>\n",
       "      <td>1.245072</td>\n",
       "      <td>1.250415</td>\n",
       "      <td>0.756468</td>\n",
       "    </tr>\n",
       "    <tr>\n",
       "      <th>std</th>\n",
       "      <td>0.148956</td>\n",
       "      <td>0.147816</td>\n",
       "      <td>0.150434</td>\n",
       "      <td>0.140594</td>\n",
       "      <td>0.156102</td>\n",
       "      <td>0.135125</td>\n",
       "    </tr>\n",
       "    <tr>\n",
       "      <th>min</th>\n",
       "      <td>1.002530</td>\n",
       "      <td>1.505420</td>\n",
       "      <td>0.505680</td>\n",
       "      <td>1.002320</td>\n",
       "      <td>1.000120</td>\n",
       "      <td>0.500000</td>\n",
       "    </tr>\n",
       "    <tr>\n",
       "      <th>25%</th>\n",
       "      <td>1.111860</td>\n",
       "      <td>1.638832</td>\n",
       "      <td>0.614320</td>\n",
       "      <td>1.122535</td>\n",
       "      <td>1.115280</td>\n",
       "      <td>0.652500</td>\n",
       "    </tr>\n",
       "    <tr>\n",
       "      <th>50%</th>\n",
       "      <td>1.248105</td>\n",
       "      <td>1.763400</td>\n",
       "      <td>0.746310</td>\n",
       "      <td>1.235910</td>\n",
       "      <td>1.259605</td>\n",
       "      <td>0.760000</td>\n",
       "    </tr>\n",
       "    <tr>\n",
       "      <th>75%</th>\n",
       "      <td>1.365100</td>\n",
       "      <td>1.877682</td>\n",
       "      <td>0.877570</td>\n",
       "      <td>1.368805</td>\n",
       "      <td>1.392158</td>\n",
       "      <td>0.870000</td>\n",
       "    </tr>\n",
       "    <tr>\n",
       "      <th>max</th>\n",
       "      <td>1.493440</td>\n",
       "      <td>1.995250</td>\n",
       "      <td>0.999860</td>\n",
       "      <td>1.498440</td>\n",
       "      <td>1.499680</td>\n",
       "      <td>1.000000</td>\n",
       "    </tr>\n",
       "  </tbody>\n",
       "</table>\n",
       "</div>"
      ],
      "text/plain": [
       "             Open        High         Low       Close  Predicted_Close  \\\n",
       "count  224.000000  220.000000  225.000000  212.000000       222.000000   \n",
       "mean     1.239946    1.753113    0.750030    1.245072         1.250415   \n",
       "std      0.148956    0.147816    0.150434    0.140594         0.156102   \n",
       "min      1.002530    1.505420    0.505680    1.002320         1.000120   \n",
       "25%      1.111860    1.638832    0.614320    1.122535         1.115280   \n",
       "50%      1.248105    1.763400    0.746310    1.235910         1.259605   \n",
       "75%      1.365100    1.877682    0.877570    1.368805         1.392158   \n",
       "max      1.493440    1.995250    0.999860    1.498440         1.499680   \n",
       "\n",
       "       Confidence  \n",
       "count  218.000000  \n",
       "mean     0.756468  \n",
       "std      0.135125  \n",
       "min      0.500000  \n",
       "25%      0.652500  \n",
       "50%      0.760000  \n",
       "75%      0.870000  \n",
       "max      1.000000  "
      ]
     },
     "execution_count": 14,
     "metadata": {},
     "output_type": "execute_result"
    }
   ],
   "source": [
    "df.describe()"
   ]
  },
  {
   "cell_type": "code",
   "execution_count": 15,
   "id": "051258ca",
   "metadata": {},
   "outputs": [
    {
     "data": {
      "text/plain": [
       "(229, 10)"
      ]
     },
     "execution_count": 15,
     "metadata": {},
     "output_type": "execute_result"
    }
   ],
   "source": [
    "df.shape"
   ]
  },
  {
   "cell_type": "code",
   "execution_count": 22,
   "id": "090fc172",
   "metadata": {},
   "outputs": [
    {
     "name": "stdout",
     "output_type": "stream",
     "text": [
      "Date               3\n",
      "Open               0\n",
      "High               0\n",
      "Low                0\n",
      "Close              0\n",
      "Volume             0\n",
      "Predicted_Close    0\n",
      "Currency_Pair      0\n",
      "Signal             0\n",
      "Confidence         0\n",
      "dtype: int64\n"
     ]
    }
   ],
   "source": [
    "#Empty cells\n",
    "print(df.isnull().sum())\n"
   ]
  },
  {
   "cell_type": "code",
   "execution_count": 23,
   "id": "ecdbac47",
   "metadata": {},
   "outputs": [
    {
     "ename": "KeyError",
     "evalue": "'open'",
     "output_type": "error",
     "traceback": [
      "\u001b[1;31m---------------------------------------------------------------------------\u001b[0m",
      "\u001b[1;31mKeyError\u001b[0m                                  Traceback (most recent call last)",
      "File \u001b[1;32mc:\\Users\\HILDAH\\anaconda3\\Lib\\site-packages\\pandas\\core\\indexes\\base.py:3805\u001b[0m, in \u001b[0;36mIndex.get_loc\u001b[1;34m(self, key)\u001b[0m\n\u001b[0;32m   3804\u001b[0m \u001b[38;5;28;01mtry\u001b[39;00m:\n\u001b[1;32m-> 3805\u001b[0m     \u001b[38;5;28;01mreturn\u001b[39;00m \u001b[38;5;28mself\u001b[39m\u001b[38;5;241m.\u001b[39m_engine\u001b[38;5;241m.\u001b[39mget_loc(casted_key)\n\u001b[0;32m   3806\u001b[0m \u001b[38;5;28;01mexcept\u001b[39;00m \u001b[38;5;167;01mKeyError\u001b[39;00m \u001b[38;5;28;01mas\u001b[39;00m err:\n",
      "File \u001b[1;32mindex.pyx:167\u001b[0m, in \u001b[0;36mpandas._libs.index.IndexEngine.get_loc\u001b[1;34m()\u001b[0m\n",
      "File \u001b[1;32mindex.pyx:196\u001b[0m, in \u001b[0;36mpandas._libs.index.IndexEngine.get_loc\u001b[1;34m()\u001b[0m\n",
      "File \u001b[1;32mpandas\\\\_libs\\\\hashtable_class_helper.pxi:7081\u001b[0m, in \u001b[0;36mpandas._libs.hashtable.PyObjectHashTable.get_item\u001b[1;34m()\u001b[0m\n",
      "File \u001b[1;32mpandas\\\\_libs\\\\hashtable_class_helper.pxi:7089\u001b[0m, in \u001b[0;36mpandas._libs.hashtable.PyObjectHashTable.get_item\u001b[1;34m()\u001b[0m\n",
      "\u001b[1;31mKeyError\u001b[0m: 'open'",
      "\nThe above exception was the direct cause of the following exception:\n",
      "\u001b[1;31mKeyError\u001b[0m                                  Traceback (most recent call last)",
      "Cell \u001b[1;32mIn[23], line 5\u001b[0m\n\u001b[0;32m      2\u001b[0m price_cols \u001b[38;5;241m=\u001b[39m [\u001b[38;5;124m'\u001b[39m\u001b[38;5;124mopen\u001b[39m\u001b[38;5;124m'\u001b[39m, \u001b[38;5;124m'\u001b[39m\u001b[38;5;124mhigh\u001b[39m\u001b[38;5;124m'\u001b[39m, \u001b[38;5;124m'\u001b[39m\u001b[38;5;124mlow\u001b[39m\u001b[38;5;124m'\u001b[39m, \u001b[38;5;124m'\u001b[39m\u001b[38;5;124mclose\u001b[39m\u001b[38;5;124m'\u001b[39m, \u001b[38;5;124m'\u001b[39m\u001b[38;5;124mPredicted_close\u001b[39m\u001b[38;5;124m'\u001b[39m]\n\u001b[0;32m      3\u001b[0m \u001b[38;5;28;01mfor\u001b[39;00m col \u001b[38;5;129;01min\u001b[39;00m price_cols:\n\u001b[0;32m      4\u001b[0m     \u001b[38;5;66;03m#Remove extreme outliers ( beyond 3 standard deviations)\u001b[39;00m\n\u001b[1;32m----> 5\u001b[0m     mean \u001b[38;5;241m=\u001b[39m df[col]\u001b[38;5;241m.\u001b[39mmean()\n\u001b[0;32m      6\u001b[0m     std_dev \u001b[38;5;241m=\u001b[39m df[col]\u001b[38;5;241m.\u001b[39mstd()\n\u001b[0;32m      7\u001b[0m     df[col] \u001b[38;5;241m=\u001b[39mnp\u001b[38;5;241m.\u001b[39mwhere(\n\u001b[0;32m      8\u001b[0m         (df[col] \u001b[38;5;241m<\u001b[39m mean \u001b[38;5;241m-\u001b[39m \u001b[38;5;241m3\u001b[39m \u001b[38;5;241m*\u001b[39m std_dev) \u001b[38;5;241m|\u001b[39m (df[col] \u001b[38;5;241m>\u001b[39m mean \u001b[38;5;241m+\u001b[39m \u001b[38;5;241m3\u001b[39m \u001b[38;5;241m*\u001b[39m std_dev),\n\u001b[0;32m      9\u001b[0m         np\u001b[38;5;241m.\u001b[39mnan,\n\u001b[0;32m     10\u001b[0m         df[col]\n\u001b[0;32m     11\u001b[0m     )\n",
      "File \u001b[1;32mc:\\Users\\HILDAH\\anaconda3\\Lib\\site-packages\\pandas\\core\\frame.py:4102\u001b[0m, in \u001b[0;36mDataFrame.__getitem__\u001b[1;34m(self, key)\u001b[0m\n\u001b[0;32m   4100\u001b[0m \u001b[38;5;28;01mif\u001b[39;00m \u001b[38;5;28mself\u001b[39m\u001b[38;5;241m.\u001b[39mcolumns\u001b[38;5;241m.\u001b[39mnlevels \u001b[38;5;241m>\u001b[39m \u001b[38;5;241m1\u001b[39m:\n\u001b[0;32m   4101\u001b[0m     \u001b[38;5;28;01mreturn\u001b[39;00m \u001b[38;5;28mself\u001b[39m\u001b[38;5;241m.\u001b[39m_getitem_multilevel(key)\n\u001b[1;32m-> 4102\u001b[0m indexer \u001b[38;5;241m=\u001b[39m \u001b[38;5;28mself\u001b[39m\u001b[38;5;241m.\u001b[39mcolumns\u001b[38;5;241m.\u001b[39mget_loc(key)\n\u001b[0;32m   4103\u001b[0m \u001b[38;5;28;01mif\u001b[39;00m is_integer(indexer):\n\u001b[0;32m   4104\u001b[0m     indexer \u001b[38;5;241m=\u001b[39m [indexer]\n",
      "File \u001b[1;32mc:\\Users\\HILDAH\\anaconda3\\Lib\\site-packages\\pandas\\core\\indexes\\base.py:3812\u001b[0m, in \u001b[0;36mIndex.get_loc\u001b[1;34m(self, key)\u001b[0m\n\u001b[0;32m   3807\u001b[0m     \u001b[38;5;28;01mif\u001b[39;00m \u001b[38;5;28misinstance\u001b[39m(casted_key, \u001b[38;5;28mslice\u001b[39m) \u001b[38;5;129;01mor\u001b[39;00m (\n\u001b[0;32m   3808\u001b[0m         \u001b[38;5;28misinstance\u001b[39m(casted_key, abc\u001b[38;5;241m.\u001b[39mIterable)\n\u001b[0;32m   3809\u001b[0m         \u001b[38;5;129;01mand\u001b[39;00m \u001b[38;5;28many\u001b[39m(\u001b[38;5;28misinstance\u001b[39m(x, \u001b[38;5;28mslice\u001b[39m) \u001b[38;5;28;01mfor\u001b[39;00m x \u001b[38;5;129;01min\u001b[39;00m casted_key)\n\u001b[0;32m   3810\u001b[0m     ):\n\u001b[0;32m   3811\u001b[0m         \u001b[38;5;28;01mraise\u001b[39;00m InvalidIndexError(key)\n\u001b[1;32m-> 3812\u001b[0m     \u001b[38;5;28;01mraise\u001b[39;00m \u001b[38;5;167;01mKeyError\u001b[39;00m(key) \u001b[38;5;28;01mfrom\u001b[39;00m \u001b[38;5;21;01merr\u001b[39;00m\n\u001b[0;32m   3813\u001b[0m \u001b[38;5;28;01mexcept\u001b[39;00m \u001b[38;5;167;01mTypeError\u001b[39;00m:\n\u001b[0;32m   3814\u001b[0m     \u001b[38;5;66;03m# If we have a listlike key, _check_indexing_error will raise\u001b[39;00m\n\u001b[0;32m   3815\u001b[0m     \u001b[38;5;66;03m#  InvalidIndexError. Otherwise we fall through and re-raise\u001b[39;00m\n\u001b[0;32m   3816\u001b[0m     \u001b[38;5;66;03m#  the TypeError.\u001b[39;00m\n\u001b[0;32m   3817\u001b[0m     \u001b[38;5;28mself\u001b[39m\u001b[38;5;241m.\u001b[39m_check_indexing_error(key)\n",
      "\u001b[1;31mKeyError\u001b[0m: 'open'"
     ]
    }
   ],
   "source": [
    "#Wrong data types\n",
    "price_cols = ['open', 'high', 'low', 'close', 'Predicted_close']\n",
    "for col in price_cols:\n",
    "    #Remove extreme outliers ( beyond 3 standard deviations)\n",
    "    mean = df[col].mean()\n",
    "    std_dev = df[col].std()\n",
    "    df[col] =np.where(\n",
    "        (df[col] < mean - 3 * std_dev) | (df[col] > mean + 3 * std_dev),\n",
    "        np.nan,\n",
    "        df[col]\n",
    "    )\n",
    "    df[col] = df[col].fillna(df[col].median())\n",
    "    "
   ]
  },
  {
   "cell_type": "code",
   "execution_count": 17,
   "id": "1b862649",
   "metadata": {},
   "outputs": [],
   "source": [
    "numeric_cols =['Open', 'High' , 'Low', 'Close', 'Volume', 'Predicted_Close' ,'Confidence']\n",
    "for col in numeric_cols:\n",
    "    if col in df.columns:\n",
    "        df[col] = pd.to_numeric(df[col], errors='coerce') # Convert to numeric, coercing errors to NaN\n",
    "        # Fill NaN values with the mean of the column\n",
    "        df[col] = df[col].fillna(df[col].median())\n",
    "\n",
    "#For categorical columns\n",
    "categorical_cols = [ 'Signal']\n",
    "for col in categorical_cols:\n",
    "    if col in df.columns:\n",
    "        df[col] = df[col].fillna(df[col].mode()[0])  # Fill NaN values with the mode of the column\n",
    "        "
   ]
  },
  {
   "cell_type": "code",
   "execution_count": 18,
   "id": "bd8b0f87",
   "metadata": {},
   "outputs": [
    {
     "name": "stdout",
     "output_type": "stream",
     "text": [
      "Date               3\n",
      "Open               0\n",
      "High               0\n",
      "Low                0\n",
      "Close              0\n",
      "Volume             0\n",
      "Predicted_Close    0\n",
      "Currency_Pair      0\n",
      "Signal             0\n",
      "Confidence         0\n",
      "dtype: int64\n"
     ]
    }
   ],
   "source": [
    "print(df.isnull().sum())"
   ]
  },
  {
   "cell_type": "code",
   "execution_count": null,
   "id": "632454ed",
   "metadata": {},
   "outputs": [],
   "source": [
    "#Data in wrong format\n",
    "#Convert 'Date' column to datetime format\n",
    "df['Date'] = pd.to_datetime(df['Date'], errors='coerce')\n",
    "\n",
    "#Handle volume column with error values\n",
    "df['Volume'] = pd.to_numeric(df['Volume'], errors='coerce')\n",
    "# Fill NaN values in 'Volume' with the median\n",
    "df['Volume'] = df['Volume'].fillna(df['Volume'].median())\n",
    "#Clean the confidence column\n",
    "df['Confidence'] = pd.to_numeric(df['Confidence'], errors='coerce')\n",
    "# Fill NaN values in 'Confidence' with the median\n",
    "df['Confidence'] = df['Confidence'].fillna(df['Confidence'].median())"
   ]
  },
  {
   "cell_type": "code",
   "execution_count": null,
   "id": "0854617d",
   "metadata": {},
   "outputs": [],
   "source": [
    "#Check for duplicates\n",
    "duplicates = df.duplicated().sum()"
   ]
  }
 ],
 "metadata": {
  "kernelspec": {
   "display_name": "base",
   "language": "python",
   "name": "python3"
  },
  "language_info": {
   "codemirror_mode": {
    "name": "ipython",
    "version": 3
   },
   "file_extension": ".py",
   "mimetype": "text/x-python",
   "name": "python",
   "nbconvert_exporter": "python",
   "pygments_lexer": "ipython3",
   "version": "3.12.7"
  }
 },
 "nbformat": 4,
 "nbformat_minor": 5
}
